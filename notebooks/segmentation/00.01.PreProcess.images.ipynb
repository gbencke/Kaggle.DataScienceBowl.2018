{
 "cells": [
  {
   "cell_type": "code",
   "execution_count": null,
   "metadata": {},
   "outputs": [],
   "source": [
    "import os\n",
    "\n",
    "from mpl_toolkits.mplot3d import Axes3D\n",
    "from matplotlib.pyplot import imshow, figure, bar, hist, show\n",
    "from skimage.measure import compare_ssim as ssim\n",
    "from skimage import io\n",
    "from skimage import exposure\n",
    "from skimage.transform import resize\n",
    "from skimage.util import img_as_ubyte\n",
    "\n",
    "import imagehash\n",
    "from PIL import Image\n",
    "import numpy as np\n",
    "from shutil import copyfile\n",
    "\n",
    "import plotly.plotly as py\n",
    "from plotly.graph_objs import *"
   ]
  },
  {
   "cell_type": "code",
   "execution_count": null,
   "metadata": {},
   "outputs": [],
   "source": [
    "DebugImage = False\n",
    "\n",
    "PATH_TO_TRAIN = \"../../data/input/data_stage1_train.zip\"\n",
    "PATH_TO_SAVE_NORMALIZED_IMAGES = \"../../data/segmentation.normalization\""
   ]
  },
  {
   "cell_type": "code",
   "execution_count": null,
   "metadata": {},
   "outputs": [],
   "source": [
    "images_to_process = []\n",
    "\n",
    "for current_directory in os.listdir(PATH_TO_TRAIN):\n",
    "    current_image = {}\n",
    "    current_image[\"id\"] = current_directory\n",
    "    current_image[\"images\"] = []\n",
    "    current_image[\"masks\"] = []\n",
    "    for current_image_file in os.listdir(os.path.join(PATH_TO_TRAIN,current_directory,\"images\")):\n",
    "        current_image[\"images\"].append(os.path.join(PATH_TO_TRAIN,current_directory,\"images\", current_image_file))\n",
    "    \n",
    "    for current_image_mask in os.listdir(os.path.join(PATH_TO_TRAIN,current_directory,\"masks\")):\n",
    "        current_image[\"masks\"].append(os.path.join(PATH_TO_TRAIN,current_directory,\"masks\", current_image_mask))\n",
    "   \n",
    "    images_to_process.append(current_image)"
   ]
  },
  {
   "cell_type": "code",
   "execution_count": null,
   "metadata": {},
   "outputs": [],
   "source": [
    "layout = Layout(\n",
    "    title='Parametric Plot',\n",
    "    scene=Scene(\n",
    "        xaxis=XAxis(\n",
    "            gridcolor='rgb(255, 255, 255)',\n",
    "            zerolinecolor='rgb(255, 255, 255)',\n",
    "            showbackground=True,\n",
    "            backgroundcolor='rgb(230, 230,230)'\n",
    "        ),\n",
    "        yaxis=YAxis(\n",
    "            gridcolor='rgb(255, 255, 255)',\n",
    "            zerolinecolor='rgb(255, 255, 255)',\n",
    "            showbackground=True,\n",
    "            backgroundcolor='rgb(230, 230,230)'\n",
    "        ),\n",
    "        zaxis=ZAxis(\n",
    "            gridcolor='rgb(255, 255, 255)',\n",
    "            zerolinecolor='rgb(255, 255, 255)',\n",
    "            showbackground=True,\n",
    "            backgroundcolor='rgb(230, 230,230)'\n",
    "        )\n",
    "    )\n",
    ")"
   ]
  },
  {
   "cell_type": "code",
   "execution_count": null,
   "metadata": {},
   "outputs": [],
   "source": [
    "%matplotlib inline\n",
    "    \n",
    "for current_image in images_to_process:\n",
    "    image_file = current_image['images'][0]\n",
    "    image_name = image_file.split(\"/\")[-1:][0]\n",
    "    print(image_file)\n",
    "    print(image_name)\n",
    "    file_png = io.imread(image_file, as_grey=True) \n",
    "    if DebugImage:\n",
    "        file_png = file_png[1:20,1:20]\n",
    "    file_png = img_as_ubyte(file_png)\n",
    "\n",
    "    array1 = np.asarray(file_png)\n",
    "    min_value = array1.min()\n",
    "    max_value = array1.max()\n",
    "    current_range = max_value - min_value\n",
    "    \n",
    "    #Original Image\n",
    "    if DebugImage:\n",
    "        print(array1.shape, min_value,max_value, current_range)\n",
    "        figure(figsize=(8, 6), dpi=80)\n",
    "        imshow(array1, cmap='gray',vmin=0,vmax=255)\n",
    "\n",
    "    #Normalized Image\n",
    "    file_png = file_png - min_value\n",
    "    file_png = file_png * (255 / current_range )\n",
    "    array1 = np.asarray(file_png)\n",
    "    min_value = array1.min()\n",
    "    max_value = array1.max()\n",
    "    current_range = max_value - min_value\n",
    "    if DebugImage:\n",
    "        print(array1.shape, min_value,max_value, current_range)\n",
    "        figure(figsize=(8, 6), dpi=80)\n",
    "        imshow(array1, cmap='gray',vmin=0,vmax=255)\n",
    "\n",
    "    #Surface Plot\n",
    "    if DebugImage:\n",
    "        fig = figure(figsize=(8, 6), dpi=80)\n",
    "        ax = fig.gca(projection='3d')\n",
    "        X, Y = np.meshgrid(np.arange(0, array1.shape[0]) ,  np.arange(0,array1.shape[1]))\n",
    "        Z = np.array(array1[X, Y])\n",
    "        surf = ax.plot_surface(X , Y, Z)\n",
    "        show()\n",
    "    array1 = array1.astype('uint8')\n",
    "    print(\"Valores:{} {} {}\".format(array1.shape, array1.min(), array1.max()))\n",
    "    io.imsave(os.path.join(PATH_TO_SAVE_NORMALIZED_IMAGES,image_name),array1)\n",
    "    \n"
   ]
  },
  {
   "cell_type": "code",
   "execution_count": null,
   "metadata": {},
   "outputs": [],
   "source": []
  }
 ],
 "metadata": {
  "kernelspec": {
   "display_name": "Python 3",
   "language": "python",
   "name": "python3"
  },
  "language_info": {
   "codemirror_mode": {
    "name": "ipython",
    "version": 3
   },
   "file_extension": ".py",
   "mimetype": "text/x-python",
   "name": "python",
   "nbconvert_exporter": "python",
   "pygments_lexer": "ipython3",
   "version": "3.5.2"
  }
 },
 "nbformat": 4,
 "nbformat_minor": 2
}
