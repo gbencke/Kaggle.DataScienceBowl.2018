{
 "cells": [
  {
   "cell_type": "code",
   "execution_count": null,
   "metadata": {},
   "outputs": [],
   "source": [
    "import os\n",
    "\n",
    "from matplotlib.pyplot import imshow, figure, bar, hist\n",
    "from skimage.measure import compare_ssim as ssim\n",
    "from skimage import io\n",
    "from skimage import exposure\n",
    "from skimage.transform import resize\n",
    "\n",
    "import imagehash\n",
    "from PIL import Image\n",
    "import numpy as np\n",
    "from shutil import copyfile"
   ]
  },
  {
   "cell_type": "code",
   "execution_count": null,
   "metadata": {},
   "outputs": [],
   "source": [
    "PATH_TO_TRAIN = \"../../data/input/data_stage1_train.zip\""
   ]
  },
  {
   "cell_type": "code",
   "execution_count": null,
   "metadata": {},
   "outputs": [],
   "source": [
    "INITIAL_SAMPLE = \"01d44a26f6680c42ba94c9bc6339228579a95d0e2695b149b7cc0c9592b21baf\"\n",
    "\n",
    "file_name = os.path.join(PATH_TO_TRAIN,\"{}/images/{}.png\".format(INITIAL_SAMPLE,INITIAL_SAMPLE))\n",
    "file_png = io.imread(file_name, as_grey=True) \n",
    "file_png = exposure.equalize_hist(file_png)\n",
    "file_png = file_png * 255\n",
    "file_png = file_png.astype('uint8')\n",
    "\n",
    "img_to_test = Image.fromarray(file_png)\n",
    "print(file_png.min(), file_png.max())\n"
   ]
  },
  {
   "cell_type": "code",
   "execution_count": null,
   "metadata": {},
   "outputs": [],
   "source": [
    "%matplotlib inline\n",
    "array1 = np.asarray(img_to_test)\n",
    "imshow(array1)\n",
    "figure()\n",
    "array1_flattened = array1.flatten()\n",
    "hist(array1_flattened, bins = 30)\n",
    "figure()\n",
    "print(array1.shape, array1.max())\n",
    "array1_flattened = array1.flatten()\n",
    "hist(array1_flattened, bins = 30)"
   ]
  },
  {
   "cell_type": "code",
   "execution_count": null,
   "metadata": {},
   "outputs": [],
   "source": [
    "images_to_process = []\n",
    "\n",
    "for current_directory in os.listdir(PATH_TO_TRAIN):\n",
    "    current_image = {}\n",
    "    current_image[\"id\"] = current_directory\n",
    "    current_image[\"images\"] = []\n",
    "    current_image[\"masks\"] = []\n",
    "    for current_image_file in os.listdir(os.path.join(PATH_TO_TRAIN,current_directory,\"images\")):\n",
    "        current_image[\"images\"].append(os.path.join(PATH_TO_TRAIN,current_directory,\"images\", current_image_file))\n",
    "    \n",
    "    for current_image_mask in os.listdir(os.path.join(PATH_TO_TRAIN,current_directory,\"masks\")):\n",
    "        current_image[\"masks\"].append(os.path.join(PATH_TO_TRAIN,current_directory,\"masks\", current_image_mask))\n",
    "   \n",
    "    images_to_process.append(current_image)"
   ]
  },
  {
   "cell_type": "code",
   "execution_count": null,
   "metadata": {},
   "outputs": [],
   "source": [
    "for current_image in images_to_process:\n",
    "    file_png = io.imread(current_image['images'][0], as_grey=True) \n",
    "    file_png = exposure.equalize_hist(file_png)\n",
    "    file_png = file_png * 255\n",
    "    file_png = file_png.astype('uint8')\n",
    "    #img_to_test = Image.fromarray(file_png)\n",
    "    #array1 = np.asarray(img_to_test)\n",
    "    #figure()\n",
    "    #imshow(array1)\n",
    "    #hash1 = imagehash.phash(img_to_test, hash_size=5)\n",
    "    #print(hash1)\n",
    "    file_png = resize(file_png,array1.shape)\n",
    "    file_png = exposure.equalize_hist(file_png)\n",
    "    file_png = file_png * 255\n",
    "    file_png = file_png.astype('uint8')\n",
    "    \n",
    "    #print(file_png.dtype, array1.dtype)\n",
    "    #print(file_png.shape, array1.shape)\n",
    "    similarity = ssim(array1, file_png)\n",
    "    #print(similarity)\n",
    "    current_image['hash'] = similarity\n",
    "\n"
   ]
  },
  {
   "cell_type": "code",
   "execution_count": null,
   "metadata": {},
   "outputs": [],
   "source": [
    "hashes = [x['hash'] for x in images_to_process]\n",
    "hashes"
   ]
  },
  {
   "cell_type": "code",
   "execution_count": null,
   "metadata": {},
   "outputs": [],
   "source": [
    "hashes = sorted(hashes, reverse = True)\n",
    "hashes = hashes[:10]\n",
    "print(hashes)\n",
    "\n",
    "ids = [str(x['hash'])[:5] + '/' + x['images'][0] for x in images_to_process if x['hash'] in hashes ]\n",
    "\n",
    "for file in ids:\n",
    "    correct_file = \"/\".join(file.split(\"/\")[1:])\n",
    "    final_file = '../../data/' + file.split(\"/\")[0] + \".\" + file.split(\"/\")[8]\n",
    "    print(final_file)\n",
    "    copyfile(correct_file,final_file)\n"
   ]
  },
  {
   "cell_type": "code",
   "execution_count": null,
   "metadata": {},
   "outputs": [],
   "source": []
  }
 ],
 "metadata": {
  "kernelspec": {
   "display_name": "Python 3",
   "language": "python",
   "name": "python3"
  },
  "language_info": {
   "codemirror_mode": {
    "name": "ipython",
    "version": 3
   },
   "file_extension": ".py",
   "mimetype": "text/x-python",
   "name": "python",
   "nbconvert_exporter": "python",
   "pygments_lexer": "ipython3",
   "version": "3.5.2"
  }
 },
 "nbformat": 4,
 "nbformat_minor": 2
}
