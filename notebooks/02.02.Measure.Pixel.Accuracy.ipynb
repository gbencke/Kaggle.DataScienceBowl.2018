{
 "cells": [
  {
   "cell_type": "code",
   "execution_count": null,
   "metadata": {},
   "outputs": [],
   "source": [
    "import os \n",
    "from skimage import io\n",
    "from skimage import exposure\n",
    "\n",
    "import gzip\n",
    "import gc\n",
    "import pprint as pp\n",
    "import numpy as np\n",
    "import pickle\n",
    "import matplotlib.pyplot as plt\n",
    "import logging\n",
    "import random\n",
    "from datetime import datetime"
   ]
  },
  {
   "cell_type": "code",
   "execution_count": null,
   "metadata": {},
   "outputs": [],
   "source": [
    "kernel_size = 16\n",
    "half_kernel = int(kernel_size/2)"
   ]
  },
  {
   "cell_type": "code",
   "execution_count": null,
   "metadata": {},
   "outputs": [],
   "source": [
    "log_location = \"../logs/\"\n",
    "PATH_TO_VALIDATION = \"../data/validation\""
   ]
  },
  {
   "cell_type": "code",
   "execution_count": null,
   "metadata": {},
   "outputs": [],
   "source": [
    "logger = logging.getLogger()\n",
    "logging.basicConfig(format=\"%(asctime)-15s %(message)s\",\n",
    "                    level=logging.DEBUG,\n",
    "                    filename=os.path.join(log_location,'keras.' + datetime.now().strftime(\"%Y%m%d%H%M%S.%f\") + '.log'))"
   ]
  },
  {
   "cell_type": "code",
   "execution_count": null,
   "metadata": {},
   "outputs": [],
   "source": [
    "images_to_process = {}\n",
    "\n",
    "for current_file in os.listdir(os.path.join(PATH_TO_VALIDATION,\"original\")):\n",
    "    current_name = current_file.split(\".\")[0]\n",
    "    images_to_process[current_name] = { \"name\" : current_name, \"original\": current_file }\n",
    "    \n",
    "for current_file in os.listdir(os.path.join(PATH_TO_VALIDATION,\"masks\")):\n",
    "    current_name = current_file.split(\".\")[0]\n",
    "    images_to_process[current_name][\"mask\"] = current_file \n",
    "\n",
    "for current_file in os.listdir(os.path.join(PATH_TO_VALIDATION)):\n",
    "    if not current_file.startswith(\"0.\"):\n",
    "        continue\n",
    "    for current_file_validation in os.listdir(os.path.join(PATH_TO_VALIDATION,current_file)):\n",
    "        current_name = current_file_validation.split(\".\")[0]\n",
    "        images_to_process[current_name][current_file] = current_file_validation "
   ]
  },
  {
   "cell_type": "code",
   "execution_count": null,
   "metadata": {},
   "outputs": [],
   "source": [
    "images_keys = list(images_to_process.keys())\n",
    "images_attributes = list(images_to_process[images_keys[0]].keys())\n",
    "images_precision = [x for x in images_attributes if x.startswith('0.')]"
   ]
  },
  {
   "cell_type": "code",
   "execution_count": null,
   "metadata": {},
   "outputs": [],
   "source": [
    "for current_image in images_keys:\n",
    "    mask_file = os.path.join(PATH_TO_VALIDATION,\"masks\",images_to_process[current_image]['mask'])\n",
    "    image_mask =  io.imread(mask_file)\n",
    "    images_to_process[current_image]['marked_pixels'] = str(image_mask.sum() / 255)\n",
    "    for current_precision in images_precision:\n",
    "        mask_file = os.path.join(PATH_TO_VALIDATION,'and_mask',images_to_process[current_image]['name'] + '.mask.png')\n",
    "        io.imsave(mask_file,image_mask)\n",
    "       \n",
    "        current_precision_file = os.path.join(PATH_TO_VALIDATION,current_precision,images_to_process[current_image][current_precision])\n",
    "        precision_mask =  io.imread(current_precision_file)\n",
    "        precision_mask = np.pad(precision_mask,((half_kernel,half_kernel), (half_kernel,half_kernel)),'constant')\n",
    "        precision_mask = precision_mask.astype('uint8')\n",
    "\n",
    "        #print(precision_mask.dtype)\n",
    "        #print(np.unique(precision_mask))\n",
    "        #print(image_mask.dtype)\n",
    "        #print(np.unique(image_mask))\n",
    "        #break\n",
    "        \n",
    "        generated_file = os.path.join(PATH_TO_VALIDATION,'and_mask',images_to_process[current_image]['name'] + current_precision +'.png')\n",
    "        io.imsave(generated_file,precision_mask)\n",
    "        \n",
    "        current_correct_file = os.path.join(PATH_TO_VALIDATION,'and_mask',images_to_process[current_image]['name'] + current_precision +'.correct.png')\n",
    "        correct_pixels = np.bitwise_and(image_mask,precision_mask )\n",
    "        images_to_process[current_image][current_precision + '.correct'] = str(correct_pixels.sum() / 255)\n",
    "        io.imsave(current_correct_file,correct_pixels)\n",
    "\n",
    "        current_incorrect_file = os.path.join(PATH_TO_VALIDATION,'and_mask',images_to_process[current_image]['name'] + current_precision +'.incorrect.png')\n",
    "        incorrect_pixels = np.bitwise_xor(image_mask,precision_mask )\n",
    "        images_to_process[current_image][current_precision + '.incorrect'] = str(incorrect_pixels.sum() / 255)\n",
    "        io.imsave(current_incorrect_file,incorrect_pixels)        "
   ]
  },
  {
   "cell_type": "code",
   "execution_count": null,
   "metadata": {},
   "outputs": [],
   "source": [
    "csv_consolidation = os.path.join(PATH_TO_VALIDATION,'and_mask','results.csv')\n",
    "with open(csv_consolidation,'w') as f:\n",
    "    for current_image in images_keys:\n",
    "        lista_campos_imagem = [images_to_process[current_image]['name'],images_to_process[current_image]['marked_pixels']]\n",
    "        for current_precision in images_precision:\n",
    "            lista_campos_imagem.append(images_to_process[current_image][current_precision + '.incorrect'])\n",
    "            lista_campos_imagem.append(images_to_process[current_image][current_precision + '.correct'])\n",
    "        f.write(\",\".join(lista_campos_imagem) + \"\\n\")\n",
    "    "
   ]
  }
 ],
 "metadata": {
  "kernelspec": {
   "display_name": "Python 3",
   "language": "python",
   "name": "python3"
  },
  "language_info": {
   "codemirror_mode": {
    "name": "ipython",
    "version": 3
   },
   "file_extension": ".py",
   "mimetype": "text/x-python",
   "name": "python",
   "nbconvert_exporter": "python",
   "pygments_lexer": "ipython3",
   "version": "3.5.2"
  }
 },
 "nbformat": 4,
 "nbformat_minor": 2
}
