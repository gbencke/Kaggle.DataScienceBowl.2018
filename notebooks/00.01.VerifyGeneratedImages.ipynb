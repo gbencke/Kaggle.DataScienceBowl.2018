{
 "cells": [
  {
   "cell_type": "markdown",
   "metadata": {},
   "source": [
    "# Verify against CSV file if Ground Truth Marking is correct"
   ]
  },
  {
   "cell_type": "code",
   "execution_count": null,
   "metadata": {},
   "outputs": [],
   "source": [
    "import os\n",
    "import gzip\n",
    "import pickle\n",
    "import logging\n",
    "import numpy as np\n",
    "from skimage import io\n",
    "from datetime import datetime\n",
    "\n",
    "log_location = \"../logs/\"\n",
    "PATH_TO_TRAIN = \"../data/input/data_stage1_train.zip\"\n",
    "PATH_TO_CSV_FILE = \"../data/input/stage1_train_labels.csv\"\n",
    "PATH_TO_INTERMEDIATE = \"../data/intermediate\"\n",
    "\n",
    "kernel_size = 16"
   ]
  },
  {
   "cell_type": "code",
   "execution_count": null,
   "metadata": {},
   "outputs": [],
   "source": [
    "logger = logging.getLogger()\n",
    "logging.basicConfig(format=\"%(asctime)-15s %(message)s\",\n",
    "                    level=logging.DEBUG,\n",
    "                    filename=os.path.join(log_location,'csv.' + datetime.now().strftime(\"%Y%m%d%H%M%S.%f\") + '.log'))"
   ]
  },
  {
   "cell_type": "code",
   "execution_count": null,
   "metadata": {},
   "outputs": [],
   "source": [
    "def log(msg):\n",
    "    logging.debug(msg)\n",
    " \n",
    "def print_log(msg):\n",
    "    log(msg)\n",
    "    print(msg)   "
   ]
  },
  {
   "cell_type": "code",
   "execution_count": null,
   "metadata": {},
   "outputs": [],
   "source": [
    "csv_data = []\n",
    "images_to_process = {}\n",
    "with open(PATH_TO_CSV_FILE,'r') as f:\n",
    "    csv_data = f.readlines()\n",
    "\n",
    "for current_line in csv_data[1:]:\n",
    "    current_image = current_line.split(\",\")[0]\n",
    "    if not (current_image in images_to_process):\n",
    "        current_image_file = os.path.join(PATH_TO_INTERMEDIATE,current_image + \".png\")\n",
    "        if not os.path.isfile(current_image_file):\n",
    "            continue        \n",
    "        original_img = io.imread(current_image_file, as_grey=True) \n",
    "        image_shape = original_img.shape\n",
    "        image_shape = (image_shape[0] - kernel_size, image_shape[1] - kernel_size)\n",
    "        images_to_process[current_image] = {}\n",
    "        images_to_process[current_image]['shape'] = image_shape\n",
    "        images_to_process[current_image]['pixels'] = np.zeros(image_shape[0] * image_shape[1], dtype='int8')\n",
    "        images_to_process[current_image]['values'] = []\n",
    "        del original_img \n",
    "    current_image_pixel_sequences = current_line.split(\",\")[1]\n",
    "    teste = zip(*[current_image_pixel_sequences.split(\" \")[i::2] for i in range(2)]) \n",
    "    values_to_sort = []\n",
    "    for pixel_start,pixel_length in teste:\n",
    "        values_to_sort.append((int(pixel_start),int(pixel_length)))\n",
    "    images_to_process[current_image]['values'] += values_to_sort\n",
    "\n",
    "#print(images_to_process)\n",
    "#images_to_process['564fa390d9a9c26f986bf860d9091cbd84244bc1c8e3c9369f2f2e5b5fd99b92']['values'].sort(key=lambda x : x[0])\n",
    "#print(images_to_process['564fa390d9a9c26f986bf860d9091cbd84244bc1c8e3c9369f2f2e5b5fd99b92']['values'])\n",
    "    \n",
    "for current_image in images_to_process.keys():\n",
    "    images_to_process[current_image]['values'].sort(key=lambda x : x[0])\n",
    "    for current_value in images_to_process[current_image]['values']:\n",
    "        images_to_process[current_image]['pixels'][int(current_value[0]) - 1:int((current_value[0] + current_value[1])) - 1] = 1\n",
    "    print(images_to_process[current_image]['values'])\n",
    "# [int(values[0]):int(values[0] + values[1])] = 1   \n",
    "     "
   ]
  },
  {
   "cell_type": "code",
   "execution_count": null,
   "metadata": {},
   "outputs": [],
   "source": [
    "for current_image in images_to_process.keys():\n",
    "    print_log(\"Processing:{}\".format(current_image))\n",
    "    error_count = 0\n",
    "    with gzip.open(os.path.join(PATH_TO_INTERMEDIATE,current_image + '.pickle'),'rb') as f:\n",
    "        image_pickled = pickle.load(f)\n",
    "    last_pos = -1\n",
    "    print(image_pickled['original_shape'], len(image_pickled['slices']))\n",
    "    for current_slice in image_pickled['slices']:\n",
    "        current_pos = current_slice['current_x'] + current_slice['current_y'] * image_pickled['original_shape'][0]\n",
    "        if current_pos == last_pos:\n",
    "            continue\n",
    "        if current_slice['augmented'] == 1:\n",
    "            continue\n",
    "        if images_to_process[current_image]['pixels'][current_pos] != current_slice['is_nuclei']:\n",
    "            print('augmented:', current_slice['augmented'])\n",
    "            print('current_y', current_slice['current_y'] , 'current_x', current_slice['current_x'], 'current_y(hk)', current_slice['current_y'] + 8 , 'current_x(hk)', current_slice['current_x'] + 8 )\n",
    "            print('csv:' , images_to_process[current_image]['pixels'][current_pos] , 'mask:', current_slice['is_nuclei'])\n",
    "            print(\"Error in {} - {} \".format(current_image, current_pos))\n",
    "            error_count +=1\n",
    "        last_pos = current_pos\n",
    "    print('error_count:', error_count)\n",
    "    "
   ]
  },
  {
   "cell_type": "code",
   "execution_count": null,
   "metadata": {},
   "outputs": [],
   "source": [
    "\"\"\"\n",
    "\n",
    "def is_valid_file(file_name):\n",
    "    if current_image_file.startswith(\"train\") or current_image_file.startswith(\"test\") or current_image_file.startswith(\"validation\") or (not current_image_file.endswith(\"pickle\")):\n",
    "        return False\n",
    "    else:\n",
    "        return True\n",
    "\n",
    "image_pickled = None\n",
    "for current_image_file in os.listdir(PATH_TO_INTERMEDIATE):\n",
    "    if not is_valid_file(current_image_file):\n",
    "        continue\n",
    "    current_image_name = current_image_file.split(\".\")[0]\n",
    "    log(\"Processing:{}\".format(current_image_name))\n",
    "    with gzip.open(os.path.join(PATH_TO_INTERMEDIATE,current_image_file),'rb') as f:\n",
    "        image_pickled = pickle.load(f)\n",
    "    images_to_process[current_image_name] = image_pickled \n",
    "    \n",
    "\"\"\"    \n",
    "     "
   ]
  }
 ],
 "metadata": {
  "kernelspec": {
   "display_name": "Python 3",
   "language": "python",
   "name": "python3"
  },
  "language_info": {
   "codemirror_mode": {
    "name": "ipython",
    "version": 3
   },
   "file_extension": ".py",
   "mimetype": "text/x-python",
   "name": "python",
   "nbconvert_exporter": "python",
   "pygments_lexer": "ipython3",
   "version": "3.5.2"
  }
 },
 "nbformat": 4,
 "nbformat_minor": 2
}
