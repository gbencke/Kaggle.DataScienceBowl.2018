{
 "cells": [
  {
   "cell_type": "markdown",
   "metadata": {},
   "source": [
    "# Images PreProcessing"
   ]
  },
  {
   "cell_type": "code",
   "execution_count": null,
   "metadata": {},
   "outputs": [],
   "source": [
    "from skimage import io\n",
    "import os\n",
    "import pprint as pp\n",
    "import numpy as np\n",
    "import matplotlib.pyplot as plt\n",
    "\n",
    "PATH_TO_TRAIN = \"../data/input/data_stage1_train.zip\"\n",
    "PATH_TO_INTERMEDIATE = \"../data/intermediate\""
   ]
  },
  {
   "cell_type": "code",
   "execution_count": null,
   "metadata": {},
   "outputs": [],
   "source": [
    "images_to_process = []\n",
    "\n",
    "for current_directory in os.listdir(PATH_TO_TRAIN):\n",
    "    current_image = {}\n",
    "    current_image[\"id\"] = current_directory\n",
    "    current_image[\"images\"] = []\n",
    "    current_image[\"masks\"] = []\n",
    "    for current_image_file in os.listdir(os.path.join(PATH_TO_TRAIN,current_directory,\"images\")):\n",
    "        current_image[\"images\"].append(os.path.join(PATH_TO_TRAIN,current_directory,\"images\", current_image_file))\n",
    "    \n",
    "    for current_image_mask in os.listdir(os.path.join(PATH_TO_TRAIN,current_directory,\"masks\")):\n",
    "        current_image[\"masks\"].append(os.path.join(PATH_TO_TRAIN,current_directory,\"masks\", current_image_mask))\n",
    "   \n",
    "    images_to_process.append(current_image)\n",
    "    \n",
    "pp.pprint(images_to_process[:1]) "
   ]
  },
  {
   "cell_type": "code",
   "execution_count": null,
   "metadata": {},
   "outputs": [],
   "source": [
    "masked_img = None\n",
    "original_img = None\n",
    "\n",
    "for mask_to_process in images_to_process[:1]:\n",
    "    first = True \n",
    "    original_img = io.imread(mask_to_process['images'][0], as_grey=True) \n",
    "    original_img = np.pad(original_img,((16,16), (16,16)),'constant')\n",
    "    for mask in mask_to_process['masks']:\n",
    "        cur_img = io.imread(mask, as_grey=True)\n",
    "        if first:\n",
    "            masked_img = cur_img\n",
    "        else:\n",
    "            masked_img = np.bitwise_or(masked_img,cur_img)\n",
    "        first = False \n",
    "    \n",
    "\n",
    "img = img / 255\n",
    "\n",
    "fig = plt.figure()\n",
    "plt.subplot(221)\n",
    "plt.imshow(original_img)\n",
    "plt.subplot(222)\n",
    "plt.imshow(img)\n",
    "plt.show()\n",
    "\n",
    "print(original_img.shape)\n",
    "print(original_img[10:25, 20:25])           "
   ]
  },
  {
   "cell_type": "code",
   "execution_count": null,
   "metadata": {},
   "outputs": [],
   "source": []
  }
 ],
 "metadata": {
  "kernelspec": {
   "display_name": "Python 3",
   "language": "python",
   "name": "python3"
  },
  "language_info": {
   "codemirror_mode": {
    "name": "ipython",
    "version": 3
   },
   "file_extension": ".py",
   "mimetype": "text/x-python",
   "name": "python",
   "nbconvert_exporter": "python",
   "pygments_lexer": "ipython3",
   "version": "3.6.4"
  }
 },
 "nbformat": 4,
 "nbformat_minor": 2
}
