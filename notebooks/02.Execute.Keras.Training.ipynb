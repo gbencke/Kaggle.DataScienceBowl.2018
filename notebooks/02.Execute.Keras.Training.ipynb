{
 "cells": [
  {
   "cell_type": "code",
   "execution_count": null,
   "metadata": {},
   "outputs": [],
   "source": [
    "import keras\n",
    "import h5py\n",
    "from keras.datasets import mnist\n",
    "from keras.models import Sequential\n",
    "from keras.layers import Dense, Dropout, Flatten\n",
    "from keras.layers import Conv2D, MaxPooling2D\n",
    "from keras import backend as K\n",
    "\n",
    "from os.path import isfile, join\n",
    "from os import listdir\n",
    "\n",
    "import gzip\n",
    "import pickle\n",
    "import gc\n",
    "from random import shuffle"
   ]
  },
  {
   "cell_type": "code",
   "execution_count": null,
   "metadata": {},
   "outputs": [],
   "source": [
    "PATH_TO_INTERMEDIATE = \"../data/intermediate\"\n",
    "PATH_TO_MODELS = \"../data/models\""
   ]
  },
  {
   "cell_type": "code",
   "execution_count": null,
   "metadata": {},
   "outputs": [],
   "source": [
    "train_batches_x = [join(PATH_TO_INTERMEDIATE, x) for x in listdir(PATH_TO_INTERMEDIATE) if isfile(join(PATH_TO_INTERMEDIATE, x)) and x.endswith(\"x.pickle\")  and x.startswith('train')]\n",
    "validation_batches_x = [join(PATH_TO_INTERMEDIATE, x) for x in listdir(PATH_TO_INTERMEDIATE) if isfile(join(PATH_TO_INTERMEDIATE, x)) and x.endswith(\"x.pickle\") and x.startswith('validation')]\n",
    "test_batches_x= [join(PATH_TO_INTERMEDIATE, x) for x in listdir(PATH_TO_INTERMEDIATE) if isfile(join(PATH_TO_INTERMEDIATE, x)) and x.endswith(\"x.pickle\") and x.startswith('test')]\n",
    "\n",
    "print(\"Original number of train batches:\", len(train_batches_x))\n",
    "print(\"Original number of validation batches:\", len(validation_batches_x))\n",
    "print(\"Original number of test batches:\", len(test_batches_x))"
   ]
  },
  {
   "cell_type": "code",
   "execution_count": null,
   "metadata": {},
   "outputs": [],
   "source": [
    "train_x = None\n",
    "train_y = None\n",
    "\n",
    "validation_x = None\n",
    "validation_y = None\n",
    "\n",
    "test_x = None\n",
    "test_y = None\n",
    "\n",
    "current_train_batch = 0\n",
    "current_validation_batch = 0\n",
    "current_test_batch = 0"
   ]
  },
  {
   "cell_type": "code",
   "execution_count": null,
   "metadata": {},
   "outputs": [],
   "source": [
    "current_train_batch_file_name_x = join(PATH_TO_INTERMEDIATE, \"train.batch.{}.x.pickle\".format(current_train_batch))\n",
    "current_train_batch_file_name_y = join(PATH_TO_INTERMEDIATE, \"train.batch.{}.y.pickle\".format(current_train_batch))\n",
    "with gzip.open(current_train_batch_file_name_x,'rb') as f:\n",
    "    train_x = pickle.load(f)\n",
    "with gzip.open(current_train_batch_file_name_y,'rb') as f:\n",
    "    train_y = pickle.load(f)    "
   ]
  },
  {
   "cell_type": "code",
   "execution_count": null,
   "metadata": {},
   "outputs": [],
   "source": [
    "current_validation_batch_file_name_x = join(PATH_TO_INTERMEDIATE, \"validation.batch.{}.x.pickle\".format(current_validation_batch))\n",
    "current_validation_batch_file_name_y = join(PATH_TO_INTERMEDIATE, \"validation.batch.{}.y.pickle\".format(current_validation_batch))\n",
    "with gzip.open(current_validation_batch_file_name_x,'rb') as f:\n",
    "    validation_x = pickle.load(f)\n",
    "with gzip.open(current_validation_batch_file_name_y,'rb') as f:\n",
    "    validation_y = pickle.load(f)    "
   ]
  },
  {
   "cell_type": "code",
   "execution_count": null,
   "metadata": {},
   "outputs": [],
   "source": [
    "current_test_batch_file_name_x = join(PATH_TO_INTERMEDIATE, \"test.batch.{}.x.pickle\".format(current_test_batch))\n",
    "current_test_batch_file_name_y = join(PATH_TO_INTERMEDIATE, \"test.batch.{}.y.pickle\".format(current_test_batch))\n",
    "with gzip.open(current_test_batch_file_name_x,'rb') as f:\n",
    "    test_x = pickle.load(f)\n",
    "with gzip.open(current_test_batch_file_name_y,'rb') as f:\n",
    "    test_y = pickle.load(f)   "
   ]
  },
  {
   "cell_type": "code",
   "execution_count": null,
   "metadata": {},
   "outputs": [],
   "source": [
    "batch_size = 1024\n",
    "num_classes = 1\n",
    "epochs = 50\n",
    "img_rows, img_cols = 16, 16"
   ]
  },
  {
   "cell_type": "code",
   "execution_count": null,
   "metadata": {},
   "outputs": [],
   "source": [
    "train_x = train_x.reshape(train_x.shape[0], img_rows, img_cols, 1)\n",
    "test_x = test_x.reshape(test_x.shape[0], img_rows, img_cols, 1)\n",
    "validation_x = validation_x.reshape(validation_x.shape[0], img_rows, img_cols, 1)\n",
    "\n",
    "input_shape = (img_rows, img_cols, 1)"
   ]
  },
  {
   "cell_type": "code",
   "execution_count": null,
   "metadata": {},
   "outputs": [],
   "source": [
    "train_y = train_y.reshape(train_y.shape[0],1)\n",
    "test_y = test_y.reshape(test_y.shape[0],1)\n",
    "validation_y = validation_y.reshape(validation_y.shape[0],1)\n",
    "\n",
    "train_y = train_y.astype('int')\n",
    "test_y = test_y.astype('int')\n",
    "validation_y = validation_y.astype('int')"
   ]
  },
  {
   "cell_type": "code",
   "execution_count": null,
   "metadata": {},
   "outputs": [],
   "source": [
    "model = Sequential()\n",
    "model.add(Conv2D(32, kernel_size=(3, 3),\n",
    "                 activation='relu',\n",
    "                 input_shape=input_shape))\n",
    "model.add(Conv2D(64, (3, 3), activation='relu'))\n",
    "model.add(MaxPooling2D(pool_size=(2, 2)))\n",
    "model.add(Dropout(0.25))\n",
    "model.add(Flatten())\n",
    "model.add(Dense(128, activation='relu'))\n",
    "model.add(Dropout(0.5))\n",
    "model.add(Dense(num_classes, activation='softmax'))\n",
    "\n",
    "model.compile(loss=keras.losses.binary_crossentropy,\n",
    "              optimizer=keras.optimizers.Adadelta(),\n",
    "              metrics=['accuracy'])"
   ]
  },
  {
   "cell_type": "code",
   "execution_count": null,
   "metadata": {},
   "outputs": [],
   "source": [
    "current_batch = 0 \n",
    "for current_train in train_batches_x:\n",
    "    batch_report = { 'batch_id' : current_batch , \n",
    "                     'batch_file' : current_train} \n",
    "    \n",
    "    with gzip.open(current_train,'rb') as f:\n",
    "        train_x = pickle.load(f)\n",
    "    with gzip.open(current_train.replace(\"x.pickle\",\"y.pickle\"),'rb') as f:\n",
    "        train_y = pickle.load(f) \n",
    "        \n",
    "    train_x = train_x.reshape(train_x.shape[0], img_rows, img_cols, 1)\n",
    "    train_y = train_y.reshape(train_y.shape[0],1)\n",
    "    train_y = train_y.astype('int')\n",
    "        \n",
    "    for current_validation in validation_batches_x:\n",
    "        with gzip.open(current_validation,'rb') as f:\n",
    "            validation_x = pickle.load(f)\n",
    "        with gzip.open(current_validation.replace(\"x.pickle\",\"y.pickle\"),'rb') as f:\n",
    "            validation_y = pickle.load(f) \n",
    "            \n",
    "        validation_x = validation_x.reshape(validation_x.shape[0], img_rows, img_cols, 1)\n",
    "        validation_y = validation_y.reshape(validation_y.shape[0],1)\n",
    "        validation_y = validation_y.astype('int')\n",
    "            \n",
    "        model.fit(train_x, train_y,\n",
    "                  batch_size=batch_size,\n",
    "                  epochs=epochs,\n",
    "                  verbose=1,\n",
    "                  validation_data=(validation_x, validation_y))\n",
    "\n",
    "    batch_report['score'] = []\n",
    "    for current_test in test_batches_x:\n",
    "        with gzip.open(current_test,'rb') as f:\n",
    "            test_x = pickle.load(f)\n",
    "        with gzip.open(current_test.replace(\"x.pickle\",\"y.pickle\"),'rb') as f:\n",
    "            test_y = pickle.load(f) \n",
    "\n",
    "        test_x = test_x.reshape(test_x.shape[0], img_rows, img_cols, 1)\n",
    "        test_y = test_y.reshape(test_y.shape[0],1)\n",
    "        test_y = test_y.astype('int')\n",
    "            \n",
    "        score = model.evaluate(validation_x, validation_y, verbose=1)\n",
    "        print('Test loss:', score[0])\n",
    "        print('Test accuracy:', score[1])\n",
    "        batch_report['score'].append(score)\n",
    "\n",
    "    with gzip.open(join(PATH_TO_MODELS,'model.meta.{}.h5'.format(current_batch)),'wb') as f:\n",
    "        pickle.dump(batch_report, f, protocol=pickle.HIGHEST_PROTOCOL)  \n",
    "    model.save(join(PATH_TO_MODELS,'model.{}.h5'.format(current_batch)))\n",
    "    current_batch += 1\n",
    "        "
   ]
  },
  {
   "cell_type": "code",
   "execution_count": null,
   "metadata": {},
   "outputs": [],
   "source": []
  },
  {
   "cell_type": "code",
   "execution_count": null,
   "metadata": {},
   "outputs": [],
   "source": []
  }
 ],
 "metadata": {
  "kernelspec": {
   "display_name": "Python 3",
   "language": "python",
   "name": "python3"
  },
  "language_info": {
   "codemirror_mode": {
    "name": "ipython",
    "version": 3
   },
   "file_extension": ".py",
   "mimetype": "text/x-python",
   "name": "python",
   "nbconvert_exporter": "python",
   "pygments_lexer": "ipython3",
   "version": "3.5.2"
  }
 },
 "nbformat": 4,
 "nbformat_minor": 2
}
