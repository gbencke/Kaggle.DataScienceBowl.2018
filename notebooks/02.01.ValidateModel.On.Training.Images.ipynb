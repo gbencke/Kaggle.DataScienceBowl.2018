{
 "cells": [
  {
   "cell_type": "code",
   "execution_count": null,
   "metadata": {},
   "outputs": [],
   "source": [
    "import os"
   ]
  },
  {
   "cell_type": "code",
   "execution_count": null,
   "metadata": {},
   "outputs": [],
   "source": [
    "os.environ[\"CUDA_DEVICE_ORDER\"] = \"PCI_BUS_ID\"   # see issue #152\n",
    "os.environ[\"CUDA_VISIBLE_DEVICES\"] = \"\""
   ]
  },
  {
   "cell_type": "code",
   "execution_count": null,
   "metadata": {},
   "outputs": [],
   "source": [
    "from skimage import io\n",
    "from skimage import exposure\n",
    "\n",
    "import gzip\n",
    "import gc\n",
    "import pprint as pp\n",
    "import numpy as np\n",
    "import pickle\n",
    "import matplotlib.pyplot as plt\n",
    "import logging\n",
    "import random\n",
    "from datetime import datetime\n",
    "\n",
    "from keras.models import load_model"
   ]
  },
  {
   "cell_type": "code",
   "execution_count": null,
   "metadata": {},
   "outputs": [],
   "source": [
    "log_location = \"../logs/\"\n",
    "PATH_TO_TRAIN = \"../data/input/data_stage1_train.zip\"\n",
    "PATH_TO_VALIDATION = \"../data/validation\"\n",
    "PATH_TO_MODEL = \"../data/models/20180214.074134.model.meta.b5.0.9507838418415674.pickle\""
   ]
  },
  {
   "cell_type": "code",
   "execution_count": null,
   "metadata": {},
   "outputs": [],
   "source": [
    "logger = logging.getLogger()\n",
    "logging.basicConfig(format=\"%(asctime)-15s %(message)s\",\n",
    "                    level=logging.DEBUG,\n",
    "                    filename=os.path.join(log_location,'keras.' + datetime.now().strftime(\"%Y%m%d%H%M%S.%f\") + '.log'))"
   ]
  },
  {
   "cell_type": "code",
   "execution_count": null,
   "metadata": {},
   "outputs": [],
   "source": [
    "kernel_size = 16\n",
    "half_kernel = int(kernel_size/2)"
   ]
  },
  {
   "cell_type": "code",
   "execution_count": null,
   "metadata": {},
   "outputs": [],
   "source": [
    "model_config = {}\n",
    "\n",
    "with gzip.open(PATH_TO_MODEL,'rb') as f:\n",
    "        model_config = pickle.load(f)  \n",
    "\n",
    "model = load_model(model_config['model_file_name'])"
   ]
  },
  {
   "cell_type": "code",
   "execution_count": null,
   "metadata": {},
   "outputs": [],
   "source": [
    "images_to_process = []\n",
    "\n",
    "for current_directory in os.listdir(PATH_TO_TRAIN):\n",
    "    current_image = {}\n",
    "    current_image[\"id\"] = current_directory\n",
    "    current_image[\"images\"] = []\n",
    "    current_image[\"masks\"] = []\n",
    "    for current_image_file in os.listdir(os.path.join(PATH_TO_TRAIN,current_directory,\"images\")):\n",
    "        current_image[\"images\"].append(os.path.join(PATH_TO_TRAIN,current_directory,\"images\", current_image_file))\n",
    "    \n",
    "    for current_image_mask in os.listdir(os.path.join(PATH_TO_TRAIN,current_directory,\"masks\")):\n",
    "        current_image[\"masks\"].append(os.path.join(PATH_TO_TRAIN,current_directory,\"masks\", current_image_mask))\n",
    "   \n",
    "    images_to_process.append(current_image)\n"
   ]
  },
  {
   "cell_type": "code",
   "execution_count": null,
   "metadata": {},
   "outputs": [],
   "source": [
    "original_img = None\n",
    "generate_images = False\n",
    "last_pickled_image = None\n",
    "\n",
    "precisions = [0.5, 0.6, 0.7, 0.8]\n",
    "\n",
    "def is_part_of_nuclei(current_slice, precision_needed):\n",
    "    current_slice_x = current_slice.reshape(1, current_slice.shape[0], current_slice.shape[1],1)\n",
    "    response = model.predict(current_slice_x)\n",
    "    return 1 if response[0][1] >= precision_needed else 0\n",
    "\n",
    "for current_precision in precisions:\n",
    "    for image_to_process in images_to_process:\n",
    "        original_img = io.imread(image_to_process['images'][0], as_grey=True) \n",
    "        image_path = os.path.join(PATH_TO_VALIDATION,image_to_process['id'] + '.original.png')\n",
    "        io.imsave(image_path,original_img)\n",
    "\n",
    "        original_img = exposure.adjust_gamma(original_img)\n",
    "        original_shape = original_img.shape\n",
    "        original_img = np.pad(original_img,((half_kernel,half_kernel), (half_kernel,half_kernel)),'constant')\n",
    "        masked_image_path = os.path.join(PATH_TO_VALIDATION,image_to_process['id'] + '.{}.validation.png'.format(current_precision))\n",
    "        masked_image = np.zeros(original_shape)\n",
    "        for current_y in range(half_kernel, original_img.shape[1] - kernel_size):\n",
    "            for current_x in range(half_kernel, original_img.shape[0] - kernel_size):\n",
    "                correct_current_x = current_x - half_kernel\n",
    "                correct_current_y = current_y - half_kernel\n",
    "                current_slice = original_img[current_x : current_x + kernel_size, current_y : current_y + kernel_size]\n",
    "                is_nuclei = is_part_of_nuclei(current_slice, current_precision)\n",
    "                masked_image[correct_current_x, correct_current_y] = is_nuclei\n",
    "        io.imsave(masked_image_path,masked_image)\n",
    "        gc.collect()\n"
   ]
  },
  {
   "cell_type": "code",
   "execution_count": null,
   "metadata": {},
   "outputs": [],
   "source": []
  }
 ],
 "metadata": {
  "kernelspec": {
   "display_name": "Python 3",
   "language": "python",
   "name": "python3"
  },
  "language_info": {
   "codemirror_mode": {
    "name": "ipython",
    "version": 3
   },
   "file_extension": ".py",
   "mimetype": "text/x-python",
   "name": "python",
   "nbconvert_exporter": "python",
   "pygments_lexer": "ipython3",
   "version": "3.5.2"
  }
 },
 "nbformat": 4,
 "nbformat_minor": 2
}
